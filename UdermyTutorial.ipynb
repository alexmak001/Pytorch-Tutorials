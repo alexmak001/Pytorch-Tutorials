{
 "metadata": {
  "language_info": {
   "codemirror_mode": {
    "name": "ipython",
    "version": 3
   },
   "file_extension": ".py",
   "mimetype": "text/x-python",
   "name": "python",
   "nbconvert_exporter": "python",
   "pygments_lexer": "ipython3",
   "version": "3.8.5-final"
  },
  "orig_nbformat": 2,
  "kernelspec": {
   "name": "python3",
   "display_name": "Python 3.8.5 64-bit ('PytorchVS': conda)",
   "metadata": {
    "interpreter": {
     "hash": "f9de795ee7e4b84a37ca8c2e2c979dd3cfd75580105ed1b581816aba772ecc54"
    }
   }
  }
 },
 "nbformat": 4,
 "nbformat_minor": 2,
 "cells": [
  {
   "cell_type": "code",
   "execution_count": 2,
   "metadata": {},
   "outputs": [],
   "source": [
    "import pandas as pd\n",
    "import torch\n",
    "import numpy as np "
   ]
  },
  {
   "cell_type": "code",
   "execution_count": 12,
   "metadata": {},
   "outputs": [],
   "source": [
    "# Input (temp, rainfall, humidity)\n",
    "inputs = np.array([[73, 67, 43], \n",
    "                   [91, 88, 64], \n",
    "                   [87, 134, 58], \n",
    "                   [102, 43, 37], \n",
    "                   [69, 96, 70]], dtype='float32')"
   ]
  },
  {
   "cell_type": "code",
   "execution_count": 13,
   "metadata": {},
   "outputs": [],
   "source": [
    "# Targets (apples, oranges)\n",
    "targets = np.array([[56, 70], \n",
    "                    [81, 101], \n",
    "                    [119, 133], \n",
    "                    [22, 37], \n",
    "                    [103, 119]], dtype='float32')"
   ]
  },
  {
   "cell_type": "code",
   "execution_count": 14,
   "metadata": {},
   "outputs": [],
   "source": [
    "inputs = torch.from_numpy(inputs)\n",
    "targets = torch.from_numpy(targets)"
   ]
  },
  {
   "cell_type": "code",
   "execution_count": 15,
   "metadata": {},
   "outputs": [
    {
     "output_type": "stream",
     "name": "stdout",
     "text": [
      "tensor([[-0.3739,  0.7924,  0.7507],\n        [-1.2867, -0.3299, -0.5902]], requires_grad=True)\ntensor([0.7640, 1.3178], requires_grad=True)\n"
     ]
    }
   ],
   "source": [
    "w = torch.randn(2,3, requires_grad=True)\n",
    "b = torch.randn(2, requires_grad=True)\n",
    "print(w)\n",
    "print(b)"
   ]
  },
  {
   "cell_type": "code",
   "execution_count": 18,
   "metadata": {},
   "outputs": [],
   "source": [
    "#model multiplies the inputs wit hthe weights and adds a bias\n",
    "def model(x):\n",
    "    return x @ w.t() + b"
   ]
  },
  {
   "cell_type": "code",
   "execution_count": 25,
   "metadata": {},
   "outputs": [
    {
     "output_type": "execute_result",
     "data": {
      "text/plain": [
       "tensor([[  58.8419, -140.0949],\n",
       "        [  84.5175, -182.5780],\n",
       "        [ 117.9615, -189.0653],\n",
       "        [  24.4751, -165.9510],\n",
       "        [ 103.5877, -160.4505]], grad_fn=<AddBackward0>)"
      ]
     },
     "metadata": {},
     "execution_count": 25
    }
   ],
   "source": [
    "preds = model(in_torch)\n",
    "preds"
   ]
  },
  {
   "cell_type": "code",
   "execution_count": 19,
   "metadata": {},
   "outputs": [],
   "source": [
    "# MSE loss function\n",
    "def mse(t1,t2):\n",
    "    diff = t1 - t2\n",
    "    # * multiplies each element with itself\n",
    "    # numel gives the number of elements\n",
    "    # gives mean squared error\n",
    "    return torch.sum(diff * diff) / diff.numel()"
   ]
  },
  {
   "cell_type": "code",
   "execution_count": 26,
   "metadata": {},
   "outputs": [
    {
     "output_type": "execute_result",
     "data": {
      "text/plain": [
       "tensor(34759.2109, grad_fn=<DivBackward0>)"
      ]
     },
     "metadata": {},
     "execution_count": 26
    }
   ],
   "source": [
    "loss = mse(preds, targets)\n",
    "loss"
   ]
  },
  {
   "cell_type": "code",
   "execution_count": 27,
   "metadata": {},
   "outputs": [],
   "source": [
    "loss.backward()\n",
    "# gradients are computed and stored in the .grad property for each variable"
   ]
  },
  {
   "cell_type": "code",
   "execution_count": 23,
   "metadata": {},
   "outputs": [
    {
     "output_type": "stream",
     "name": "stdout",
     "text": [
      "tensor([[-0.3739,  0.7924,  0.7507],\n        [-1.2867, -0.3299, -0.5902]], requires_grad=True)\ntensor([[   146.0410,    104.7258,     83.9604],\n        [-21829.0586, -23548.4219, -14586.7168]])\n"
     ]
    }
   ],
   "source": [
    "print(w)\n",
    "print(w.grad)"
   ]
  },
  {
   "cell_type": "code",
   "execution_count": 24,
   "metadata": {},
   "outputs": [
    {
     "output_type": "execute_result",
     "data": {
      "text/plain": [
       "tensor([0., 0.])"
      ]
     },
     "metadata": {},
     "execution_count": 24
    }
   ],
   "source": [
    "# need to call zero_() method to clear the gradients\n",
    "w.grad.zero_()\n",
    "b.grad.zero_()"
   ]
  },
  {
   "cell_type": "code",
   "execution_count": 28,
   "metadata": {},
   "outputs": [],
   "source": [
    "# adjust weights and reset gradients\n",
    "with torch.no_grad():\n",
    "    w -= w.grad * 1e-5\n",
    "    b -= b.grad * 1e-5\n",
    "    w.grad.zero_()\n",
    "    b.grad.zero_()"
   ]
  },
  {
   "cell_type": "code",
   "execution_count": 29,
   "metadata": {},
   "outputs": [
    {
     "output_type": "stream",
     "name": "stdout",
     "text": [
      "tensor([[-0.3754,  0.7914,  0.7499],\n        [-1.0684, -0.0944, -0.4443]], requires_grad=True)\n"
     ]
    }
   ],
   "source": [
    "print(w)"
   ]
  },
  {
   "cell_type": "code",
   "execution_count": 30,
   "metadata": {},
   "outputs": [],
   "source": [
    "# train model for 100 epochs\n",
    "\n",
    "for i in range(1000):\n",
    "    preds = model(in_torch)\n",
    "    loss = mse(preds, targets)\n",
    "    loss.backward()\n",
    "    with torch.no_grad():\n",
    "        w -= w.grad * 1e-5\n",
    "        b -= b.grad * 1e-5\n",
    "        w.grad.zero_()\n",
    "        b.grad.zero_()"
   ]
  },
  {
   "cell_type": "code",
   "execution_count": 32,
   "metadata": {},
   "outputs": [
    {
     "output_type": "stream",
     "name": "stdout",
     "text": [
      "tensor([[ 57.2697,  70.7702],\n        [ 82.3283,  98.5473],\n        [118.2513, 137.0493],\n        [ 20.9526,  38.1539],\n        [102.3572, 115.0432]], grad_fn=<AddBackward0>)\ntensor(4.5515, grad_fn=<DivBackward0>)\n"
     ]
    }
   ],
   "source": [
    "print(model(in_torch))\n",
    "print(mse(preds, targets))"
   ]
  },
  {
   "cell_type": "code",
   "execution_count": 33,
   "metadata": {},
   "outputs": [
    {
     "output_type": "execute_result",
     "data": {
      "text/plain": [
       "tensor([[ 56.,  70.],\n",
       "        [ 81., 101.],\n",
       "        [119., 133.],\n",
       "        [ 22.,  37.],\n",
       "        [103., 119.]])"
      ]
     },
     "metadata": {},
     "execution_count": 33
    }
   ],
   "source": [
    "targets"
   ]
  },
  {
   "cell_type": "code",
   "execution_count": 35,
   "metadata": {},
   "outputs": [],
   "source": [
    "# generalized example for larger datasets\n",
    "import torch.nn as nn"
   ]
  },
  {
   "cell_type": "code",
   "execution_count": 36,
   "metadata": {},
   "outputs": [],
   "source": [
    "# Input (temp, rainfall, humidity)\n",
    "inputs = np.array([[73, 67, 43], \n",
    "                   [91, 88, 64], \n",
    "                   [87, 134, 58], \n",
    "                   [102, 43, 37], \n",
    "                   [69, 96, 70], \n",
    "                   [74, 66, 43], \n",
    "                   [91, 87, 65], \n",
    "                   [88, 134, 59], \n",
    "                   [101, 44, 37], \n",
    "                   [68, 96, 71], \n",
    "                   [73, 66, 44], \n",
    "                   [92, 87, 64], \n",
    "                   [87, 135, 57], \n",
    "                   [103, 43, 36], \n",
    "                   [68, 97, 70]], \n",
    "                  dtype='float32')\n",
    "\n",
    "# Targets (apples, oranges)\n",
    "targets = np.array([[56, 70], \n",
    "                    [81, 101], \n",
    "                    [119, 133], \n",
    "                    [22, 37], \n",
    "                    [103, 119],\n",
    "                    [57, 69], \n",
    "                    [80, 102], \n",
    "                    [118, 132], \n",
    "                    [21, 38], \n",
    "                    [104, 118], \n",
    "                    [57, 69], \n",
    "                    [82, 100], \n",
    "                    [118, 134], \n",
    "                    [20, 38], \n",
    "                    [102, 120]], \n",
    "                   dtype='float32')\n",
    "\n",
    "inputs = torch.from_numpy(inputs)\n",
    "targets = torch.from_numpy(targets)"
   ]
  },
  {
   "cell_type": "code",
   "execution_count": 38,
   "metadata": {},
   "outputs": [],
   "source": [
    "# tensor dataset allows access to rwos from inputs and targets as tuples, used for working with large datasets that cannot be loaded into memory\n",
    "from torch.utils.data import TensorDataset"
   ]
  },
  {
   "cell_type": "code",
   "execution_count": 39,
   "metadata": {},
   "outputs": [
    {
     "output_type": "execute_result",
     "data": {
      "text/plain": [
       "(tensor([[ 73.,  67.,  43.],\n",
       "         [ 91.,  88.,  64.],\n",
       "         [ 87., 134.,  58.]]),\n",
       " tensor([[ 56.,  70.],\n",
       "         [ 81., 101.],\n",
       "         [119., 133.]]))"
      ]
     },
     "metadata": {},
     "execution_count": 39
    }
   ],
   "source": [
    "train_ds = TensorDataset(inputs, targets)\n",
    "train_ds[0:3]"
   ]
  },
  {
   "cell_type": "code",
   "execution_count": 40,
   "metadata": {},
   "outputs": [],
   "source": [
    "# the dataloadder can split the data into batches, and has abilities to shuffle and random sample from the data\n",
    "from torch.utils.data import DataLoader"
   ]
  },
  {
   "cell_type": "code",
   "execution_count": 41,
   "metadata": {},
   "outputs": [],
   "source": [
    "batch_size = 5\n",
    "train_dl = DataLoader(train_ds, batch_size, shuffle=True)"
   ]
  },
  {
   "cell_type": "code",
   "execution_count": 42,
   "metadata": {},
   "outputs": [
    {
     "output_type": "stream",
     "name": "stdout",
     "text": [
      "Parameter containing:\ntensor([[ 0.0289, -0.2768, -0.0617],\n        [ 0.4219,  0.0874,  0.2053]], requires_grad=True)\nParameter containing:\ntensor([-0.4106, -0.0151], requires_grad=True)\n"
     ]
    }
   ],
   "source": [
    "# instead of initializing weights and biases manually, we can define the model using nn.Linear class from Pytorch\n",
    "model = nn.Linear(3,2)\n",
    "print(model.weight)\n",
    "print(model.bias)"
   ]
  },
  {
   "cell_type": "code",
   "execution_count": 44,
   "metadata": {},
   "outputs": [
    {
     "output_type": "execute_result",
     "data": {
      "text/plain": [
       "[Parameter containing:\n",
       " tensor([[ 0.0289, -0.2768, -0.0617],\n",
       "         [ 0.4219,  0.0874,  0.2053]], requires_grad=True),\n",
       " Parameter containing:\n",
       " tensor([-0.4106, -0.0151], requires_grad=True)]"
      ]
     },
     "metadata": {},
     "execution_count": 44
    }
   ],
   "source": [
    "# parameters method returns a list of all weights and biases\n",
    "list(model.parameters())"
   ]
  },
  {
   "cell_type": "code",
   "execution_count": 45,
   "metadata": {},
   "outputs": [
    {
     "output_type": "execute_result",
     "data": {
      "text/plain": [
       "tensor([[-19.5034,  45.4713],\n",
       "        [-26.0929,  59.2133],\n",
       "        [-38.5712,  60.3150],\n",
       "        [-11.6522,  54.3775],\n",
       "        [-29.3130,  51.8619],\n",
       "        [-19.1977,  45.8058],\n",
       "        [-25.8779,  59.3312],\n",
       "        [-38.6041,  60.9422],\n",
       "        [-11.9579,  54.0430],\n",
       "        [-29.4037,  51.6453],\n",
       "        [-19.2883,  45.5892],\n",
       "        [-25.7873,  59.5478],\n",
       "        [-38.7863,  60.1971],\n",
       "        [-11.5616,  54.5942],\n",
       "        [-29.6187,  51.5274]], grad_fn=<AddmmBackward>)"
      ]
     },
     "metadata": {},
     "execution_count": 45
    }
   ],
   "source": [
    "preds = model(inputs)\n",
    "preds"
   ]
  },
  {
   "cell_type": "code",
   "execution_count": 46,
   "metadata": {},
   "outputs": [],
   "source": [
    "# we can use a built in loss function\n",
    "import torch.nn.functional as F"
   ]
  },
  {
   "cell_type": "code",
   "execution_count": 47,
   "metadata": {},
   "outputs": [],
   "source": [
    "loss_fn = F.mse_loss"
   ]
  },
  {
   "cell_type": "code",
   "execution_count": 48,
   "metadata": {},
   "outputs": [
    {
     "output_type": "execute_result",
     "data": {
      "text/plain": [
       "tensor(7283.4863, grad_fn=<MseLossBackward>)"
      ]
     },
     "metadata": {},
     "execution_count": 48
    }
   ],
   "source": [
    "loss_fn(model(inputs),targets)"
   ]
  },
  {
   "cell_type": "code",
   "execution_count": 49,
   "metadata": {},
   "outputs": [],
   "source": [
    "# instead of manually manipulating the model's weights and biases using gradients, we can use the SGD built in optimizer"
   ]
  },
  {
   "cell_type": "code",
   "execution_count": 51,
   "metadata": {},
   "outputs": [],
   "source": [
    "# define optimizer\n",
    "opt = torch.optim.SGD(model.parameters(), lr=1e-5)"
   ]
  },
  {
   "cell_type": "code",
   "execution_count": 61,
   "metadata": {},
   "outputs": [],
   "source": [
    "# fit funtion trains the model given the parameters\n",
    "def fit(num_epochs, model, loss_fn, opt):\n",
    "\n",
    "    #repeat for a number of epochs\n",
    "    for epoch in range(num_epochs):\n",
    "\n",
    "        # train with batches of data\n",
    "        for xb, yb in train_dl:\n",
    "\n",
    "            # 1 generate prediction\n",
    "            pred = model(xb)\n",
    "\n",
    "            # 2 calculate loss\n",
    "            loss = loss_fn(pred, yb)\n",
    "\n",
    "            # 3 compute gradient\n",
    "            loss.backward()\n",
    "\n",
    "            # 4 update parameters using gradients\n",
    "            opt.step()\n",
    "\n",
    "            # 5 reset gradients to zero\n",
    "            opt.zero_grad()\n",
    "        \n",
    "        if(epoch+1)%100 ==0:\n",
    "            print(\"Epoch: {0}/{1}, loss: {2}\".format(epoch,num_epochs,loss.item()))"
   ]
  },
  {
   "cell_type": "code",
   "execution_count": 62,
   "metadata": {},
   "outputs": [
    {
     "output_type": "stream",
     "name": "stdout",
     "text": [
      "Epoch: 99/1000, loss: 26.84378433227539\n",
      "Epoch: 199/1000, loss: 6.273566246032715\n",
      "Epoch: 299/1000, loss: 6.437229156494141\n",
      "Epoch: 399/1000, loss: 2.884883165359497\n",
      "Epoch: 499/1000, loss: 2.881657123565674\n",
      "Epoch: 599/1000, loss: 1.1836341619491577\n",
      "Epoch: 699/1000, loss: 1.9658706188201904\n",
      "Epoch: 799/1000, loss: 0.9058719873428345\n",
      "Epoch: 899/1000, loss: 0.9968701601028442\n",
      "Epoch: 999/1000, loss: 1.1773329973220825\n"
     ]
    }
   ],
   "source": [
    "fit(1000, model, loss_fn, opt)"
   ]
  },
  {
   "cell_type": "code",
   "execution_count": 63,
   "metadata": {},
   "outputs": [
    {
     "output_type": "execute_result",
     "data": {
      "text/plain": [
       "tensor([[ 56.9007,  70.3974],\n",
       "        [ 81.9516, 100.3443],\n",
       "        [118.4793, 133.1394],\n",
       "        [ 20.9014,  37.8391],\n",
       "        [101.5890, 118.1169],\n",
       "        [ 55.6546,  69.3155],\n",
       "        [ 81.7874, 100.4080],\n",
       "        [118.7667, 133.7240],\n",
       "        [ 22.1474,  38.9210],\n",
       "        [102.6708, 119.2625],\n",
       "        [ 56.7364,  70.4611],\n",
       "        [ 80.7056,  99.2624],\n",
       "        [118.6436, 133.0757],\n",
       "        [ 19.8196,  36.6936],\n",
       "        [102.8350, 119.1988]], grad_fn=<AddmmBackward>)"
      ]
     },
     "metadata": {},
     "execution_count": 63
    }
   ],
   "source": [
    "model(inputs)"
   ]
  },
  {
   "cell_type": "code",
   "execution_count": 64,
   "metadata": {},
   "outputs": [
    {
     "output_type": "execute_result",
     "data": {
      "text/plain": [
       "tensor([[ 56.,  70.],\n",
       "        [ 81., 101.],\n",
       "        [119., 133.],\n",
       "        [ 22.,  37.],\n",
       "        [103., 119.],\n",
       "        [ 57.,  69.],\n",
       "        [ 80., 102.],\n",
       "        [118., 132.],\n",
       "        [ 21.,  38.],\n",
       "        [104., 118.],\n",
       "        [ 57.,  69.],\n",
       "        [ 82., 100.],\n",
       "        [118., 134.],\n",
       "        [ 20.,  38.],\n",
       "        [102., 120.]])"
      ]
     },
     "metadata": {},
     "execution_count": 64
    }
   ],
   "source": [
    "targets"
   ]
  },
  {
   "cell_type": "code",
   "execution_count": null,
   "metadata": {},
   "outputs": [],
   "source": []
  }
 ]
}